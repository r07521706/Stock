{
 "cells": [
  {
   "cell_type": "code",
   "execution_count": 2,
   "metadata": {},
   "outputs": [
    {
     "ename": "ModuleNotFoundError",
     "evalue": "No module named 'FinMind'",
     "output_type": "error",
     "traceback": [
      "\u001b[1;31m---------------------------------------------------------------------------\u001b[0m",
      "\u001b[1;31mModuleNotFoundError\u001b[0m                       Traceback (most recent call last)",
      "\u001b[1;32m<ipython-input-2-0c9daa173f9b>\u001b[0m in \u001b[0;36m<module>\u001b[1;34m()\u001b[0m\n\u001b[0;32m      2\u001b[0m \u001b[1;32mimport\u001b[0m \u001b[0mdatetime\u001b[0m\u001b[1;33m\u001b[0m\u001b[0m\n\u001b[0;32m      3\u001b[0m \u001b[1;32mfrom\u001b[0m \u001b[0mmatplotlib\u001b[0m \u001b[1;32mimport\u001b[0m \u001b[0mpyplot\u001b[0m \u001b[1;32mas\u001b[0m \u001b[0mplt\u001b[0m\u001b[1;33m\u001b[0m\u001b[0m\n\u001b[1;32m----> 4\u001b[1;33m \u001b[1;32mfrom\u001b[0m \u001b[0mFinMind\u001b[0m\u001b[1;33m.\u001b[0m\u001b[0mData\u001b[0m \u001b[1;32mimport\u001b[0m \u001b[0mLoad\u001b[0m\u001b[1;33m\u001b[0m\u001b[0m\n\u001b[0m\u001b[0;32m      5\u001b[0m \u001b[1;32mimport\u001b[0m \u001b[0mnumpy\u001b[0m \u001b[1;32mas\u001b[0m \u001b[0mnp\u001b[0m\u001b[1;33m\u001b[0m\u001b[0m\n\u001b[0;32m      6\u001b[0m \u001b[1;32mimport\u001b[0m \u001b[0mjson\u001b[0m\u001b[1;33m\u001b[0m\u001b[0m\n",
      "\u001b[1;31mModuleNotFoundError\u001b[0m: No module named 'FinMind'"
     ]
    }
   ],
   "source": [
    "import math\n",
    "import datetime\n",
    "from matplotlib import pyplot as plt\n",
    "from FinMind.Data import Load\n",
    "import numpy as np\n",
    "import json\n",
    "TaiwanStockInfo = Load.FinData(dataset = 'TaiwanStockInfo')\n",
    "  \n",
    "\n",
    "stock_id=8088\n",
    "some_days_ago=700\n",
    "\n",
    "data = Load.FinData(dataset = 'TaiwanStockPrice',select = [str(stock_id)],date = str(datetime.date.today()-datetime.timedelta(days = some_days_ago)))"
   ]
  },
  {
   "cell_type": "code",
   "execution_count": null,
   "metadata": {
    "collapsed": true
   },
   "outputs": [],
   "source": [
    "#####\n",
    "def make_line(data,rolling_num=20):\n",
    "#     data['close'].plot(figsize=(16,9))\n",
    "    #center 和 min_periods很重要\n",
    "    data['rmax']=data['close'].rolling(rolling_num,min_periods=1,center=True).max()\n",
    "    data['rmin']=data['close'].rolling(rolling_num,center=True,min_periods=1).min()   \n",
    "    data['local_max_or_not']=data['rmax']==data['close']\n",
    "    data['local_min_or_not']=data['rmin']==data['close']\n",
    "    #找到重要的直\n",
    "    data['critical']=np.logical_or(data['local_max_or_not'],data['local_min_or_not'])\n",
    "#     畫圖\n",
    "#     plt.plot(data['close'][data['critical']],'r-')\n",
    "#     plt.plot(data['close'][data['critical']],'go')\n",
    "    return data\n",
    "result=make_line(data)\n",
    "plt.show()"
   ]
  },
  {
   "cell_type": "code",
   "execution_count": null,
   "metadata": {
    "collapsed": true
   },
   "outputs": [],
   "source": [
    "#功能：判斷上升段 下降段\n",
    "#有三種可能 上升 平 下降\n",
    "critical_point_list=data['critical']\n",
    "critical_price       =data[['close']][critical_point_list]\n",
    "critical_price['index']= critical_price.index\n",
    "critical_price['gap']=critical_price['close']-critical_price['close'].shift(1)\n",
    "ans=map(lambda x:'up' if x>0  else 'down' if x<0 else 'flat' if x==0 else 'non',critical_price['gap'])\n",
    "critical_price['type']=list(ans)\n",
    "critical_price=critical_price[critical_price['type']!='flat']\n",
    "critical_price['next_type']=critical_price['type'].shift(-1)\n",
    "critical_price=critical_price[critical_price['next_type']!=critical_price['type']]\n",
    "del critical_price['next_type']"
   ]
  },
  {
   "cell_type": "code",
   "execution_count": null,
   "metadata": {},
   "outputs": [],
   "source": [
    "#測試畫完的圖\n",
    "data.iloc[critical_price.index]['close'].plot()\n",
    "data['close'].plot(figsize=(16,8))"
   ]
  },
  {
   "cell_type": "code",
   "execution_count": null,
   "metadata": {},
   "outputs": [],
   "source": [
    "essential_data=data.iloc[critical_price.index][['date','close']]\n",
    "essential_data['next_close']=essential_data['close'].shift(-1)\n",
    "essential_data['type']=critical_price['type'].shift(-1)\n",
    "essential_data['mid_point']=(essential_data['close']+essential_data['close'].shift(-1))/2\n",
    "essential_data['last_mid_point']=essential_data['mid_point'].shift(1)\n",
    "essential_data['type1_buy']=np.logical_and(list(essential_data['type']=='down'),list(essential_data['next_close']> essential_data['last_mid_point']))\n",
    "essential_data['type1_sell']=np.logical_and(list(essential_data['type']=='up'),list(essential_data['next_close']<essential_data['last_mid_point']))"
   ]
  },
  {
   "cell_type": "code",
   "execution_count": null,
   "metadata": {
    "collapsed": true
   },
   "outputs": [],
   "source": [
    "final_wave_list2=[]\n",
    "for i in final_wave_list:\n",
    "    s=i[1]\n",
    "    e=i[2]\n",
    "    i.append(data['close'][e])\n",
    "    i.append(data['close'][s])\n",
    "    final_wave_list2.append(i)\n",
    "final_wave_list2"
   ]
  },
  {
   "cell_type": "code",
   "execution_count": null,
   "metadata": {
    "collapsed": true
   },
   "outputs": [],
   "source": [
    "import pandas as pd\n",
    "col_name = ['state','start_day','end_day','end_price','start_price']\n",
    "df=pd.DataFrame(final_wave_list,columns=col_name)\n",
    "df['mid_price']=(df['start_price']+df['end_price'])/2\n",
    "df['last_wave_mid']=df['mid_price'].shift(1)"
   ]
  },
  {
   "cell_type": "code",
   "execution_count": null,
   "metadata": {
    "collapsed": true
   },
   "outputs": [],
   "source": [
    "df"
   ]
  },
  {
   "cell_type": "code",
   "execution_count": null,
   "metadata": {
    "collapsed": true
   },
   "outputs": [],
   "source": [
    "d1=df['end_price']>df['last_wave_mid']\n",
    "d2=df['state']=='down'\n",
    "d3=np.logical_and(d1,d2)\n",
    "df['type1']=d3\n",
    "poket_list=df[df['type1']==True]\n",
    "poket_list\n"
   ]
  },
  {
   "cell_type": "code",
   "execution_count": 32,
   "metadata": {},
   "outputs": [
    {
     "data": {
      "text/html": [
       "<div>\n",
       "<style scoped>\n",
       "    .dataframe tbody tr th:only-of-type {\n",
       "        vertical-align: middle;\n",
       "    }\n",
       "\n",
       "    .dataframe tbody tr th {\n",
       "        vertical-align: top;\n",
       "    }\n",
       "\n",
       "    .dataframe thead th {\n",
       "        text-align: right;\n",
       "    }\n",
       "</style>\n",
       "<table border=\"1\" class=\"dataframe\">\n",
       "  <thead>\n",
       "    <tr style=\"text-align: right;\">\n",
       "      <th></th>\n",
       "      <th>賠了</th>\n",
       "      <th>當前價格</th>\n",
       "      <th>買入日</th>\n",
       "      <th>賣出日</th>\n",
       "      <th>波一漲幅</th>\n",
       "    </tr>\n",
       "  </thead>\n",
       "  <tbody>\n",
       "  </tbody>\n",
       "</table>\n",
       "</div>"
      ],
      "text/plain": [
       "Empty DataFrame\n",
       "Columns: [賠了, 當前價格, 買入日, 賣出日, 波一漲幅]\n",
       "Index: []"
      ]
     },
     "execution_count": 32,
     "metadata": {},
     "output_type": "execute_result"
    }
   ],
   "source": [
    "earn_list=[]\n",
    "lose_list=[]\n",
    "for i in poket_list.iterrows():\n",
    "    the_last_wave    =final_wave_list[i[0]-1]\n",
    "\n",
    "    first_wave_mid   =i[1]['last_wave_mid']\n",
    "    first_wave_high  =final_wave_list[i[0]-1][3]\n",
    "    first_wave_gap   =(first_wave_high-first_wave_mid)*2\n",
    "    nfactor          =0.8\n",
    "    start_index      =i[1]['end_day']\n",
    "    \n",
    "    index            =start_index\n",
    "    purchase         =False\n",
    "    purchase_price   =0     \n",
    "    while(index<=(len(data)-1)):\n",
    "        now_price    =data['close'][index]\n",
    "        index       +=1\n",
    "        \n",
    "        if(purchase):\n",
    "            if -now_price+purchase_price>purchase_price*0.8:\n",
    "                print('賠太多 殺出')\n",
    "                lose_list.append([-now_price+purchase_price,now_price,start_index,index,first_wave_gap])\n",
    "                break\n",
    "\n",
    "            if now_price<first_wave_mid:\n",
    "                print('波破壞 退出 認賠')\n",
    "                losemoney=data['close'][start_index]-data['close'][index]\n",
    "                print(losemoney)\n",
    "                lose_list.append([losemoney,now_price,start_index,index,first_wave_gap])\n",
    "                purchase         =False\n",
    "                break\n",
    "            elif (now_price-purchase_price)>first_wave_gap*nfactor:\n",
    "                print('收手有賺錢 賺了',now_price-purchase_price,'現在價格',now_price)\n",
    "                purchase         =False\n",
    "                earn_list.append([now_price-purchase_price,now_price,start_index,index,first_wave_gap])\n",
    "                break\n",
    "        else:\n",
    "            if now_price<first_wave_mid:\n",
    "                print('波破壞 退出')\n",
    "                break\n",
    "            elif now_price>=first_wave_high:\n",
    "                purchase       = True\n",
    "                purchase_price = now_price\n",
    "                print('type1發動---購買價格',purchase_price,'第一波漲幅',first_wave_gap)\n",
    "                \n",
    "earn_list=pd.DataFrame(earn_list,columns=['賺了','當前價格','買入日','賣出日','波一漲幅'])\n",
    "lose_list=pd.DataFrame(lose_list,columns=['賠了','當前價格','買入日','賣出日','波一漲幅'])\n",
    "lose_list\n",
    "#建立五波段物件\n",
    "#1.第一波中點 第一波高點 第二波end\n",
    "#2.從第二波end開始找當價格超過第一波高點時買入 \n",
    "#4.如果是持有狀態 如果當價格低於第一波中點時賣出 認賠\n",
    "#5.如果是持有狀態 當漲勢是第一波的n倍時賣出\n"
   ]
  },
  {
   "cell_type": "code",
   "execution_count": 33,
   "metadata": {},
   "outputs": [
    {
     "data": {
      "text/html": [
       "<div>\n",
       "<style scoped>\n",
       "    .dataframe tbody tr th:only-of-type {\n",
       "        vertical-align: middle;\n",
       "    }\n",
       "\n",
       "    .dataframe tbody tr th {\n",
       "        vertical-align: top;\n",
       "    }\n",
       "\n",
       "    .dataframe thead th {\n",
       "        text-align: right;\n",
       "    }\n",
       "</style>\n",
       "<table border=\"1\" class=\"dataframe\">\n",
       "  <thead>\n",
       "    <tr style=\"text-align: right;\">\n",
       "      <th></th>\n",
       "      <th>賺了</th>\n",
       "      <th>當前價格</th>\n",
       "      <th>買入日</th>\n",
       "      <th>賣出日</th>\n",
       "      <th>波一漲幅</th>\n",
       "    </tr>\n",
       "  </thead>\n",
       "  <tbody>\n",
       "  </tbody>\n",
       "</table>\n",
       "</div>"
      ],
      "text/plain": [
       "Empty DataFrame\n",
       "Columns: [賺了, 當前價格, 買入日, 賣出日, 波一漲幅]\n",
       "Index: []"
      ]
     },
     "execution_count": 33,
     "metadata": {},
     "output_type": "execute_result"
    }
   ],
   "source": [
    "earn_list"
   ]
  },
  {
   "cell_type": "code",
   "execution_count": 5,
   "metadata": {
    "collapsed": true
   },
   "outputs": [],
   "source": [
    "#20190612可以的版本\n",
    "#還要思考的地方，如果type1真的發動了 接下來要想辦法計算趨勢線 不能再用之前的波了 因為太小了 不合常理\n",
    "#使用角度來判斷\n",
    "import math"
   ]
  },
  {
   "cell_type": "code",
   "execution_count": 6,
   "metadata": {},
   "outputs": [
    {
     "name": "stdout",
     "output_type": "stream",
     "text": [
      "0\n",
      "1\n",
      "2\n",
      "3\n",
      "4\n",
      "5\n",
      "6\n",
      "7\n",
      "8\n",
      "9\n",
      "10\n",
      "11\n",
      "12\n",
      "13\n",
      "14\n",
      "15\n",
      "close\n"
     ]
    }
   ],
   "source": [
    "index=0\n",
    "while(1):\n",
    "    print(index)\n",
    "    index+=1\n",
    "    \n",
    "    \n",
    "    \n",
    "    \n",
    "    \n",
    "    if index==len(final_wave_list)-1:\n",
    "        print('close')\n",
    "        break\n",
    "            \n"
   ]
  },
  {
   "cell_type": "code",
   "execution_count": null,
   "metadata": {
    "collapsed": true
   },
   "outputs": [],
   "source": []
  },
  {
   "cell_type": "code",
   "execution_count": null,
   "metadata": {
    "collapsed": true
   },
   "outputs": [],
   "source": [
    "# for index in range(len(final_wave_list)):\n",
    "#     day_object=final_wave_list[index]\n",
    "#     if day_object[0]=='up':\n",
    "#         #計算限制價格\n",
    "#         ss=day_object[1]\n",
    "#         e=day_object[2]\n",
    "#         limit_price=(data['close'][ss]+data['close'][e])/2\n",
    "#         print(limit_price)\n",
    "#         \n",
    "#         #取下一個波來檢查\n",
    "index=0\n",
    "while(1):\n",
    "    day_object=final_wave_list[index]\n",
    "    if day_object[0]=='up':\n",
    "    #計算中點價格\n",
    "        ss=day_object[1]\n",
    "        e=day_object[2]\n",
    "        limit_price=(data['close'][ss]+data['close'][e])/2\n",
    "#         print('第一道波 中點價格',limit_price)\n",
    "        \n",
    "        #觀察第二個波的最低點是否有超過\n",
    "        index+=1\n",
    "        day_object2=final_wave_list[index]\n",
    "        e2=day_object2[2]\n",
    "#         print('第二個波的價格',data['close'][e2])\n",
    "        \n",
    "        if data['close'][e2]>limit_price:\n",
    "#             print('type1發動',data['close'][e2],\">\",limit_price,final_wave_list[index],final_wave_list[next_index])\n",
    "            print(\"第一波中間點\",limit_price,'第一波最高點',data['close'][day_object[2]])\n",
    "            print(\"第二波最低點\",data['close'][e2])\n",
    "            #找尋第三個波\n",
    "            #第三個波的第一個值\n",
    "        if index==len(final_wave_list)-1:\n",
    "            print('close')\n",
    "            break\n",
    "            \n",
    "            \n",
    "            \n",
    "#             third_wave_index=next_index+1\n",
    "#             day_object3=final_wave_list[third_wave_index]\n",
    "            \n",
    "            \n",
    "#             wave3_start=day_object3[1]\n",
    "#             wave3_end  =day_object3[2]\n",
    "#             print(\"第三波 start\",wave3_start,\"end\",wave3_end)\n",
    "            \n",
    "#             no_first_bigger=True\n",
    "#             for i in range(wave3_start,wave3_end+1):\n",
    "#                 if data['close'][i]>data['close'][day_object[2]] and no_first_bigger:\n",
    "#                     print(i,'天超越第一波最高點')\n",
    "#                     print(i,'price is ',data['close'][i],'>',data['close'][day_object[2]])\n",
    "#                     print('以',data['close'][day_object[2]],'購買')\n",
    "#                     print('開始設定停損 該案例以20%最多只能賠',data['close'][day_object[2]]*0.2)\n",
    "                    \n",
    "                    \n",
    "#                     y_max_tick=data['close'].max()\n",
    "#                     y_min_tick=data['close'].min()\n",
    "#                     gap= y_max_tick- y_min_tick\n",
    "#                     biger_factor=x_max_tick/gap\n",
    "                    \n",
    "#                     x_max_tick=len(data)\n",
    "                    \n",
    "                    \n",
    "                    \n",
    "                    \n",
    "#                     print('開始計算角度x',wave3_start,i,'轉換至',wave3_start*biger_factor,i*biger_factor)\n",
    "#                     print('y',data['close'][wave3_start],data['close'][day_object[2]])\n",
    "#                     ans=gap/(i*biger_factor-wave3_start*biger_factor)\n",
    "#                     deg=math.degrees(math.atan(ans))\n",
    "#                     print('tan=',deg)\n",
    "#                     no_first_bigger=False\n",
    "                    \n",
    "                    \n",
    "                    \n",
    "            \n",
    "#            # print(\"第三波 start_price\",data['close'][wave3_start],\"end\",data['close'][wave3_end])\n",
    "            \n",
    "#             #在第三波中找到\n",
    "            \n",
    "            \n",
    "#             if third_wave_index>len(final_wave_list)-1:\n",
    "#                 break\n",
    "#             day_object2=final_wave_list[third_wave_index]\n",
    "            \n",
    "#             e3=day_object2[2]\n",
    "            \n",
    "    \n",
    "#             print('----------------')\n",
    "    \n",
    "    \n",
    "    \n",
    "    \n",
    "#     index+=1\n",
    "#     #如果index跑到最後面的時候\n",
    "#     if index==len(final_wave_list)-1:\n",
    "#         print('close')\n",
    "#         break\n",
    "        \n",
    "        \n",
    "        "
   ]
  },
  {
   "cell_type": "code",
   "execution_count": 132,
   "metadata": {
    "collapsed": true
   },
   "outputs": [],
   "source": [
    "#接收的是stat_record_list 的index 需要再把index轉換成object\n",
    "#判斷第二波是否有低於第一波的終點\n",
    "def inspect_2_step(day_object_index):\n",
    "    try:\n",
    "        day_object=stat_record_list[day_object_index]\n",
    "#         print(day_object)\n",
    "        if day_object['stat']==\"up\":\n",
    "            return \"no success\"\n",
    "        elif day_object['stat']==\"down\":\n",
    "            end_index=day_object[\"day_end\"]\n",
    "            type1_buy_price=data['close'][end_index]\n",
    "            return {\"index\":day_object_index,\"day_start\":day_object['day_start'],\"day_end\":day_object['day_end'],\"type1_price\":type1_buy_price}\n",
    "        elif day_object['stat']==\"flat\":\n",
    "            return inspect_2_step(day_object_index+1)\n",
    "    except:\n",
    "        return 'wrong'\n",
    "    "
   ]
  },
  {
   "cell_type": "code",
   "execution_count": 187,
   "metadata": {},
   "outputs": [
    {
     "name": "stdout",
     "output_type": "stream",
     "text": [
      "無發動\n",
      "type1成功 進入候選名單\n",
      "第一波 {'day_start': 17, 'day_end': 24, 'day_start_index': 7, 'day_end_index': 8, 'price': 241.5, 'stat': 'up'}\n",
      "第二波 {'day_start': 25, 'day_end': 26, 'day_start_index': 9, 'day_end_index': 10, 'price': 254.0, 'stat': 'down'}\n",
      "買點 26\n"
     ]
    }
   ],
   "source": [
    "#功能 抓出up down up\n",
    "buy_day_list=[]\n",
    "for i in stat_record_list:\n",
    "    #當前index\n",
    "    if i['stat']==\"up\":    \n",
    "        #檢查下一個index的目標狀態是否為down 如果為flat就繼續檢查下去 如果為up則回傳失敗\n",
    "        res=inspect_2_step(i['day_start_index']+1)\n",
    "        if res=='no success':\n",
    "            print('無發動')\n",
    "        #如果是down的話 res會是dict\n",
    "        elif type(res)==dict:\n",
    "            #開始價格的index\n",
    "            s_index=i['day_start']\n",
    "            #結束價格的index\n",
    "            e_index=i['day_end']\n",
    "            #門檻的價格 目前是取1/2 以後可以改相關的參數\n",
    "            limit_price=(data['close'][s_index]+data['close'][e_index])/2\n",
    "            limit_price=limit_price\n",
    "#             print(data['close'][s_index],data['close'][e_index],limit_price)\n",
    "            \n",
    "            #判斷是否下降波段的最低點是否有有低於中間點 如果低於中間點的話則type1失敗\n",
    "            if limit_price<res['type1_price']:\n",
    "                print(\"type1成功 進入候選名單\")\n",
    "                index=res['index']\n",
    "                print(\"第一波\",stat_record_list[i['day_start_index']])\n",
    "                print(\"第二波\",stat_record_list[index])\n",
    "#                 print(i['day_start'],res['day_end'],limit_price,res['type1_price'])\n",
    "                print(\"買點\",stat_record_list[index]['day_end'])\n",
    "                buy_day_list.append(stat_record_list[index]['day_end'])\n",
    "                #type1成功 檢查第三波 第四波是否成功\n",
    "            else:\n",
    "                pass\n",
    "            \n",
    "            \n"
   ]
  },
  {
   "cell_type": "code",
   "execution_count": 186,
   "metadata": {},
   "outputs": [
    {
     "data": {
      "text/plain": [
       "[4, 15, 26, 39, 42, 65]"
      ]
     },
     "execution_count": 186,
     "metadata": {},
     "output_type": "execute_result"
    }
   ],
   "source": [
    "#已經知道買點了\n",
    "#有些點要注意 後面的type1可能是前面的type2如果最後波結束 如果目前的type1 是上個波的type2則失敗\n",
    "#現在開始等獲利 如果\n",
    "buy_day_list"
   ]
  },
  {
   "cell_type": "code",
   "execution_count": 3,
   "metadata": {
    "collapsed": true
   },
   "outputs": [],
   "source": [
    "def get_slope(x,y):\n",
    "    \n",
    "    s1=x\n",
    "    n1=np.array(y)\n",
    "    \n",
    "    s1=np.array(s)\n",
    "    s2=s1[1:]#x後項\n",
    "    s3=s1[:-1]#x前\n",
    "    s4=s2-s3#後項減前項\n",
    "\n",
    "    n2=n1[1:]#值得後項\n",
    "    n3=n1[:-1]#值得前項\n",
    "    n4=n2-n3\n",
    "    \n",
    "    slope=n4/s4\n",
    "    \n",
    "    return slope"
   ]
  },
  {
   "cell_type": "code",
   "execution_count": 4,
   "metadata": {},
   "outputs": [
    {
     "data": {
      "text/plain": [
       "array([ 0.04923077, -0.054     ,  0.02375   ,  0.        , -0.1525    ,\n",
       "        0.09866667,  0.        , -0.1575    , -0.06222222,  0.045     ])"
      ]
     },
     "execution_count": 4,
     "metadata": {},
     "output_type": "execute_result"
    }
   ],
   "source": [
    "get_slope(s,data['close'][s])"
   ]
  },
  {
   "cell_type": "code",
   "execution_count": 5,
   "metadata": {
    "collapsed": true
   },
   "outputs": [],
   "source": [
    "\n",
    "def get_wave(x,slope):\n",
    "    \n",
    "    stack=[]\n",
    "    s3=x\n",
    "    wave_list=[]\n",
    "    for i,k in zip(slope,s3):\n",
    "        if len(stack)==0:\n",
    "            if i >0:\n",
    "                stack.append([i,k])\n",
    "\n",
    "        else:#stack內有放東西了\n",
    "            if i==0:\n",
    "                if stack[-1][0]>0:\n",
    "                    stack.append([i,k])\n",
    "            elif i<0:\n",
    "                \n",
    "                if stack[-1][0]<0:\n",
    "                    stack.append([i,k])\n",
    "                \n",
    "                else:\n",
    "                    stack.append([i,k])\n",
    "                    wave_list.append(stack)\n",
    "                    stack=[]\n",
    "            elif i>0:\n",
    "                stack.append([i,k])\n",
    "    wave_list.append(stack)\n",
    "    \n",
    "    return wave_list\n"
   ]
  },
  {
   "cell_type": "code",
   "execution_count": 6,
   "metadata": {
    "collapsed": true
   },
   "outputs": [],
   "source": [
    "wave_list=get_wave(s,get_slope(s,data['close'][s]))"
   ]
  },
  {
   "cell_type": "code",
   "execution_count": 7,
   "metadata": {},
   "outputs": [
    {
     "data": {
      "text/plain": [
       "[[[0.0492307692307692, 0], [-0.05400000000000009, 13]],\n",
       " [[0.02375000000000005, 18], [0.0, 26], [-0.15250000000000008, 27]],\n",
       " [[0.0986666666666667, 31], [0.0, 46], [-0.15749999999999997, 47]],\n",
       " [[0.04499999999999993, 60]]]"
      ]
     },
     "execution_count": 7,
     "metadata": {},
     "output_type": "execute_result"
    }
   ],
   "source": [
    "wave_list"
   ]
  },
  {
   "cell_type": "code",
   "execution_count": 8,
   "metadata": {
    "collapsed": true
   },
   "outputs": [],
   "source": [
    "class stock_cal:\n",
    "        def __init__(self,data):\n",
    "            self.data=data\n",
    "            self.s=make_line(data)\n",
    "            self.slope=get_slope(self.s,data['close'][self.s])\n",
    "        def make_line(self,rolling_num=12):\n",
    "            \n",
    "            data=self.data\n",
    "            data['close'].plot(figsize=(16,9))\n",
    "            #center 和 min_periods很重要\n",
    "            data['rmax']=data['close'].rolling(rolling_num,min_periods=1,center=True).max()\n",
    "            data['rmin']=data['close'].rolling(rolling_num,center=True,min_periods=1).min()\n",
    "            data['local_max_or_not']=data['rmax']==data['close']\n",
    "            data['local_min_or_not']=data['rmin']==data['close']\n",
    "            data['critical_point']=data['local_max_or_not' or 'local_min_or_not']\n",
    "            data['local_min_or_not'][len(data)-1]=True\n",
    "            #data[['local_max_or_not']].iloc[59]=True\n",
    "            #找到重要的直\n",
    "            s=[]\n",
    "            for i in data.itertuples():\n",
    "\n",
    "                if i[13]==True or i[14]==True:\n",
    "\n",
    "                    s.append(i[0])\n",
    "            plt.plot(data['close'][s],'r-')\n",
    "            self.data=data\n",
    "            return s\n",
    "        def get_slope(x,y):\n",
    "    \n",
    "            s1=x\n",
    "            n1=np.array(y)\n",
    "\n",
    "            s1=np.array(s)\n",
    "            s2=s1[1:]#x後項\n",
    "            s3=s1[:-1]#x前\n",
    "            s4=s2-s3#後項減前項\n",
    "\n",
    "            n2=n1[1:]#值得後項\n",
    "            n3=n1[:-1]#值得前項\n",
    "            n4=n2-n3\n",
    "\n",
    "            slope=n4/s4\n",
    "\n",
    "            return slope\n",
    "        def get_wave(self,x,slope):\n",
    "            \n",
    "            \n",
    "            \n",
    "            stack=[]\n",
    "            s3=x\n",
    "            wave_list=[]\n",
    "            for i,k in zip(slope,s3):\n",
    "                if len(stack)==0:\n",
    "                    if i >0:\n",
    "                        stack.append([i,k])\n",
    "\n",
    "                else:#stack內有放東西了\n",
    "                    if i==0:\n",
    "                        if stack[-1][0]>0:\n",
    "                            stack.append([i,k])\n",
    "                    elif i<0:\n",
    "\n",
    "                        if stack[-1][0]<0:\n",
    "                            stack.append([i,k])\n",
    "\n",
    "                        else:\n",
    "                            stack.append([i,k])\n",
    "                            wave_list.append(stack)\n",
    "                            stack=[]\n",
    "                    elif i>0:\n",
    "                        stack.append([i,k])\n",
    "            wave_list.append(stack)\n",
    "\n",
    "            return wave_list"
   ]
  },
  {
   "cell_type": "code",
   "execution_count": 9,
   "metadata": {},
   "outputs": [
    {
     "name": "stderr",
     "output_type": "stream",
     "text": [
      "/anaconda3/lib/python3.7/site-packages/ipykernel_launcher.py:11: SettingWithCopyWarning: \n",
      "A value is trying to be set on a copy of a slice from a DataFrame\n",
      "\n",
      "See the caveats in the documentation: http://pandas.pydata.org/pandas-docs/stable/indexing.html#indexing-view-versus-copy\n",
      "  # This is added back by InteractiveShellApp.init_path()\n"
     ]
    },
    {
     "data": {
      "image/png": "[encoded data removed]",
      "text/plain": [
       "<Figure size 1152x648 with 1 Axes>"
      ]
     },
     "metadata": {
      "needs_background": "light"
     },
     "output_type": "display_data"
    }
   ],
   "source": [
    "d1=stock_cal(data)"
   ]
  }
 ],
 "metadata": {
  "kernelspec": {
   "display_name": "Python 3",
   "language": "python",
   "name": "python3"
  },
  "language_info": {
   "codemirror_mode": {
    "name": "ipython",
    "version": 3
   },
   "file_extension": ".py",
   "mimetype": "text/x-python",
   "name": "python",
   "nbconvert_exporter": "python",
   "pygments_lexer": "ipython3",
   "version": "3.6.3"
  }
 },
 "nbformat": 4,
 "nbformat_minor": 2
}
