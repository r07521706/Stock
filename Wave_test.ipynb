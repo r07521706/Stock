{
 "cells": [
  {
   "cell_type": "code",
   "execution_count": 1,
   "metadata": {
    "collapsed": true
   },
   "outputs": [],
   "source": [
    "import math\n",
    "import datetime\n",
    "from matplotlib import pyplot as plt\n",
    "from FinMind.Data import Load\n",
    "import numpy as np\n",
    "import json\n",
    "import pandas as pd\n",
    "TaiwanStockInfo = Load.FinData(dataset = 'TaiwanStockInfo')"
   ]
  },
  {
   "cell_type": "code",
   "execution_count": 9,
   "metadata": {},
   "outputs": [],
   "source": [
    "stock_id=2330\n",
    "some_days_ago=700\n",
    "rolling_num=20\n",
    "nfactor=1\n",
    "stop_loss_factor=1\n",
    "\n",
    "data2 = Load.FinData(dataset = 'TaiwanStockPrice',select = [str(stock_id)],date = str(datetime.date.today()-datetime.timedelta(days = some_days_ago))) \n",
    "  "
   ]
  },
  {
   "cell_type": "code",
   "execution_count": 31,
   "metadata": {},
   "outputs": [],
   "source": [
    "def get_critical_point(data,rolling_num):\n",
    "    critical_point_data=pd.DataFrame()\n",
    "    critical_point_data['close']=data['close']\n",
    "    critical_point_data['rmax']=data['close'].rolling(rolling_num,min_periods=1,center=True).max()\n",
    "    critical_point_data['rmin']=data['close'].rolling(rolling_num,center=True,min_periods=1).min()\n",
    "    critical_point_data['critical']=np.logical_or(critical_point_data['close']==critical_point_data['rmax'],\n",
    "                                                  critical_point_data['close']==critical_point_data['rmin'])\n",
    "    return critical_point_data"
   ]
  },
  {
   "cell_type": "code",
   "execution_count": 46,
   "metadata": {
    "collapsed": true
   },
   "outputs": [],
   "source": [
    "def get_simple_wave(critical_point_data):\n",
    "    critical_point_list=critical_point_data['critical']\n",
    "    simple_wave       =critical_point_data[['close']][critical_point_list]\n",
    "    simple_wave['index']= simple_wave.index\n",
    "    simple_wave['gap']=simple_wave['close']-simple_wave['close'].shift(1)\n",
    "    ans=map(lambda x:'up' if x>0  else 'down' if x<0 else 'flat' if x==0 else 'non',simple_wave['gap'])\n",
    "    simple_wave['type']=list(ans)\n",
    "    simple_wave=simple_wave[simple_wave['type']!='flat']\n",
    "    simple_wave['next_type']=simple_wave['type'].shift(-1)\n",
    "    simple_wave=simple_wave[simple_wave['next_type']!=simple_wave['type']]\n",
    "    del simple_wave['next_type']\n",
    "    return simple_wave\n",
    "    "
   ]
  },
  {
   "cell_type": "code",
   "execution_count": 84,
   "metadata": {
    "collapsed": true
   },
   "outputs": [],
   "source": [
    "def get_wave_info(simple_wave,critical_point_data):\n",
    "    wave_info=critical_point_data.iloc[simple_wave.index][['close']]\n",
    "    wave_info['next_close']=wave_info['close'].shift(-1)\n",
    "    wave_info['type']=simple_wave['type'].shift(-1)\n",
    "    wave_info['mid_point']=(wave_info['close']+wave_info['close'].shift(-1))/2\n",
    "    wave_info['last_mid_point']=wave_info['mid_point'].shift(1)\n",
    "    wave_info['type1_buy']=np.logical_and(list(wave_info['type']=='down'),list(wave_info['next_close']>= wave_info['last_mid_point']))\n",
    "    wave_info['type1_sell']=np.logical_and(list(wave_info['type']=='up'),list(wave_info['next_close']<wave_info['last_mid_point']))\n",
    "    wave_info['index']=wave_info.index\n",
    "    wave_info['next_index']=wave_info['index'].shift(-1)\n",
    "    return wave_info"
   ]
  },
  {
   "cell_type": "code",
   "execution_count": 96,
   "metadata": {
    "collapsed": true
   },
   "outputs": [],
   "source": [
    "def test1(stock_id,some_days_ago=700,rolling_num=20,nfactor=1,stop_loss_factor=10):\n",
    "    \n",
    "    try:\n",
    "        \n",
    "        data                 = Load.FinData(dataset = 'TaiwanStockPrice',select = [str(stock_id)],date = str(datetime.date.today()-datetime.timedelta(days = some_days_ago)))#資料取得        \n",
    "        critical_point_data  =  get_critical_point(data,rolling_num)            #簡化波型(粗糙)       \n",
    "        simple_wave          =  get_simple_wave(critical_point_data)            #處理簡化過的波型 把兩個下跌的波整併成一個波        \n",
    "        wave_info            =  get_wave_info(simple_wave,critical_point_data)  #計算使用波浪理論需要的參數        \n",
    "        lose_list              = []\n",
    "        earn_list              = []\n",
    "        \n",
    "        for i in wave_info[wave_info['type1_buy']].iterrows():\n",
    "            start_index            = i[1]['next_index']         #起始日期的INDEX\n",
    "            list_obj               = i[1]                       #上面那個表(essential_data)的一列\n",
    "            now_index              = start_index                #開始迴圈時當前日期的index   \n",
    "            start_point            = list_obj['close']          #第一波的最高點 當超過最高點時就啟動了\n",
    "            wave_control_condition = list_obj['last_mid_point'] #第一波的中間點 當低於這個點波型破壞 \n",
    "            first_wave_gap         = abs(start_point-wave_control_condition)*2\n",
    "            purchase               = False\n",
    "            purchase_price         = 0\n",
    "            stop_loss_factor       = stop_loss_factor           #跌超過20%就停損\n",
    "            nfactor                = nfactor                    #漲超過第一波的n倍就停利\n",
    "\n",
    "            #logic compute\n",
    "            while(now_index<=(len(data)-1)):\n",
    "                now_price    =data['close'][now_index]\n",
    "                now_index+=1\n",
    "                if(purchase):\n",
    "                            if -now_price+purchase_price>purchase_price*(1-stop_loss_factor/100):\n",
    "                                purchase         =False\n",
    "                                lose_list.append([-now_price+purchase_price,now_price,start_index,now_index,first_wave_gap])\n",
    "                                break\n",
    "\n",
    "                            if now_price<wave_control_condition:\n",
    "                                losemoney=data['close'][start_index]-data['close'][now_index]\n",
    "                                lose_list.append([losemoney,now_price,start_index,now_index,first_wave_gap])\n",
    "                                purchase         =False\n",
    "                                break\n",
    "                            elif (now_price-purchase_price)>first_wave_gap*nfactor:\n",
    "                                purchase         =False\n",
    "                                earn_list.append([now_price-purchase_price,now_price,start_index,now_index,first_wave_gap])\n",
    "                                break\n",
    "\n",
    "                elif(not purchase):\n",
    "                            if now_price<wave_control_condition:\n",
    "                                break\n",
    "                            elif now_price> start_point:\n",
    "                                purchase       = True\n",
    "                                purchase_price = now_price\n",
    "\n",
    "        earn_list=pd.DataFrame(earn_list,columns=['賺了','當前價格','買入日','賣出日','波一漲幅'])\n",
    "        earn_list['號碼']=stock_id\n",
    "        lose_list=pd.DataFrame(lose_list,columns=['賠了','當前價格','買入日','賣出日','波一漲幅'])\n",
    "        lose_list['號碼']=stock_id\n",
    "        return [earn_list,lose_list]\n",
    "    \n",
    "    except KeyError:\n",
    "        print('沒抓到資料')\n",
    "        \n",
    "   "
   ]
  },
  {
   "cell_type": "code",
   "execution_count": 92,
   "metadata": {},
   "outputs": [
    {
     "name": "stdout",
     "output_type": "stream",
     "text": [
      "2201\n",
      "2204\n",
      "2206\n",
      "2207\n"
     ]
    }
   ],
   "source": [
    "stock_pocket=[2201,2204,2206,2207]\n",
    "earn_list=pd.DataFrame()\n",
    "lost_list=pd.DataFrame()\n",
    "for stock_id in stock_pocket:\n",
    "    print(stock_id)\n",
    "    rs=test1(stock_id,700,nfactor=2,stop_loss_factor=20)\n",
    "    if rs !=None:\n",
    "        earn_list=pd.concat([earn_list,rs[0]])\n",
    "        lost_list=pd.concat([lost_list,rs[1]])"
   ]
  },
  {
   "cell_type": "code",
   "execution_count": 94,
   "metadata": {},
   "outputs": [
    {
     "data": {
      "text/html": [
       "<div>\n",
       "<style>\n",
       "    .dataframe thead tr:only-child th {\n",
       "        text-align: right;\n",
       "    }\n",
       "\n",
       "    .dataframe thead th {\n",
       "        text-align: left;\n",
       "    }\n",
       "\n",
       "    .dataframe tbody tr th {\n",
       "        vertical-align: top;\n",
       "    }\n",
       "</style>\n",
       "<table border=\"1\" class=\"dataframe\">\n",
       "  <thead>\n",
       "    <tr style=\"text-align: right;\">\n",
       "      <th></th>\n",
       "      <th>賠了</th>\n",
       "      <th>當前價格</th>\n",
       "      <th>買入日</th>\n",
       "      <th>賣出日</th>\n",
       "      <th>波一漲幅</th>\n",
       "      <th>號碼</th>\n",
       "    </tr>\n",
       "  </thead>\n",
       "  <tbody>\n",
       "    <tr>\n",
       "      <th>0</th>\n",
       "      <td>0.5</td>\n",
       "      <td>26.75</td>\n",
       "      <td>185.0</td>\n",
       "      <td>244.0</td>\n",
       "      <td>2.35</td>\n",
       "      <td>2204</td>\n",
       "    </tr>\n",
       "    <tr>\n",
       "      <th>0</th>\n",
       "      <td>5.0</td>\n",
       "      <td>345.50</td>\n",
       "      <td>32.0</td>\n",
       "      <td>80.0</td>\n",
       "      <td>14.50</td>\n",
       "      <td>2207</td>\n",
       "    </tr>\n",
       "  </tbody>\n",
       "</table>\n",
       "</div>"
      ],
      "text/plain": [
       "    賠了    當前價格    買入日    賣出日   波一漲幅    號碼\n",
       "0  0.5   26.75  185.0  244.0   2.35  2204\n",
       "0  5.0  345.50   32.0   80.0  14.50  2207"
      ]
     },
     "execution_count": 94,
     "metadata": {},
     "output_type": "execute_result"
    }
   ],
   "source": [
    "lost_list"
   ]
  },
  {
   "cell_type": "code",
   "execution_count": 95,
   "metadata": {},
   "outputs": [
    {
     "data": {
      "text/html": [
       "<div>\n",
       "<style>\n",
       "    .dataframe thead tr:only-child th {\n",
       "        text-align: right;\n",
       "    }\n",
       "\n",
       "    .dataframe thead th {\n",
       "        text-align: left;\n",
       "    }\n",
       "\n",
       "    .dataframe tbody tr th {\n",
       "        vertical-align: top;\n",
       "    }\n",
       "</style>\n",
       "<table border=\"1\" class=\"dataframe\">\n",
       "  <thead>\n",
       "    <tr style=\"text-align: right;\">\n",
       "      <th></th>\n",
       "      <th>賺了</th>\n",
       "      <th>當前價格</th>\n",
       "      <th>買入日</th>\n",
       "      <th>賣出日</th>\n",
       "      <th>波一漲幅</th>\n",
       "      <th>號碼</th>\n",
       "    </tr>\n",
       "  </thead>\n",
       "  <tbody>\n",
       "    <tr>\n",
       "      <th>0</th>\n",
       "      <td>4.05</td>\n",
       "      <td>23.95</td>\n",
       "      <td>408.0</td>\n",
       "      <td>451.0</td>\n",
       "      <td>1.4</td>\n",
       "      <td>2201</td>\n",
       "    </tr>\n",
       "    <tr>\n",
       "      <th>0</th>\n",
       "      <td>119.50</td>\n",
       "      <td>379.50</td>\n",
       "      <td>356.0</td>\n",
       "      <td>403.0</td>\n",
       "      <td>57.0</td>\n",
       "      <td>2207</td>\n",
       "    </tr>\n",
       "  </tbody>\n",
       "</table>\n",
       "</div>"
      ],
      "text/plain": [
       "       賺了    當前價格    買入日    賣出日  波一漲幅    號碼\n",
       "0    4.05   23.95  408.0  451.0   1.4  2201\n",
       "0  119.50  379.50  356.0  403.0  57.0  2207"
      ]
     },
     "execution_count": 95,
     "metadata": {},
     "output_type": "execute_result"
    }
   ],
   "source": [
    "earn_list"
   ]
  },
  {
   "cell_type": "code",
   "execution_count": null,
   "metadata": {
    "collapsed": true
   },
   "outputs": [],
   "source": []
  }
 ],
 "metadata": {
  "kernelspec": {
   "display_name": "Python 3",
   "language": "python",
   "name": "python3"
  },
  "language_info": {
   "codemirror_mode": {
    "name": "ipython",
    "version": 3
   },
   "file_extension": ".py",
   "mimetype": "text/x-python",
   "name": "python",
   "nbconvert_exporter": "python",
   "pygments_lexer": "ipython3",
   "version": "3.6.3"
  }
 },
 "nbformat": 4,
 "nbformat_minor": 2
}
